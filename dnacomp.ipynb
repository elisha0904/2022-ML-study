{
 "cells": [
  {
   "cell_type": "code",
   "execution_count": 1,
   "id": "b37289ca",
   "metadata": {},
   "outputs": [],
   "source": [
    "import warnings\n",
    "warnings.filterwarnings('ignore')\n",
    "import numpy as np\n",
    "import pandas as pd   \n",
    "import matplotlib.pyplot as plt\n",
    "import seaborn as sns\n",
    "import itertools\n",
    "\n",
    "from sklearn.model_selection import train_test_split\n",
    "from sklearn.metrics import accuracy_score, confusion_matrix, log_loss\n",
    "\n",
    "from catboost import CatBoostClassifier\n",
    "from sklearn.ensemble import RandomForestClassifier\n",
    "\n",
    "from sklearn.model_selection import TimeSeriesSplit"
   ]
  },
  {
   "cell_type": "code",
   "execution_count": 2,
   "id": "445de070",
   "metadata": {},
   "outputs": [],
   "source": [
    "train = pd.read_csv('data/train.csv')\n",
    "test = pd.read_csv('data/test.csv')\n",
    "submission=pd.read_csv('data/sample_submission.csv')"
   ]
  },
  {
   "cell_type": "markdown",
   "id": "e1021680",
   "metadata": {},
   "source": [
    "### 결측치 확인 및 처리"
   ]
  },
  {
   "cell_type": "code",
   "execution_count": 3,
   "id": "3f673b0f",
   "metadata": {},
   "outputs": [
    {
     "data": {
      "text/plain": [
       "index               0\n",
       "gender              0\n",
       "car                 0\n",
       "reality             0\n",
       "child_num           0\n",
       "income_total        0\n",
       "income_type         0\n",
       "edu_type            0\n",
       "family_type         0\n",
       "house_type          0\n",
       "DAYS_BIRTH          0\n",
       "DAYS_EMPLOYED       0\n",
       "FLAG_MOBIL          0\n",
       "work_phone          0\n",
       "phone               0\n",
       "email               0\n",
       "occyp_type       8171\n",
       "family_size         0\n",
       "begin_month         0\n",
       "credit              0\n",
       "dtype: int64"
      ]
     },
     "execution_count": 3,
     "metadata": {},
     "output_type": "execute_result"
    }
   ],
   "source": [
    "train.isnull().sum()"
   ]
  },
  {
   "cell_type": "code",
   "execution_count": 4,
   "id": "4be2dc91",
   "metadata": {},
   "outputs": [
    {
     "data": {
      "text/plain": [
       "index               0\n",
       "gender              0\n",
       "car                 0\n",
       "reality             0\n",
       "child_num           0\n",
       "income_total        0\n",
       "income_type         0\n",
       "edu_type            0\n",
       "family_type         0\n",
       "house_type          0\n",
       "DAYS_BIRTH          0\n",
       "DAYS_EMPLOYED       0\n",
       "FLAG_MOBIL          0\n",
       "work_phone          0\n",
       "phone               0\n",
       "email               0\n",
       "occyp_type       3152\n",
       "family_size         0\n",
       "begin_month         0\n",
       "dtype: int64"
      ]
     },
     "execution_count": 4,
     "metadata": {},
     "output_type": "execute_result"
    }
   ],
   "source": [
    "test.isnull().sum()"
   ]
  },
  {
   "cell_type": "code",
   "execution_count": 5,
   "id": "bb52f7b3",
   "metadata": {},
   "outputs": [],
   "source": [
    "train=train.drop('occyp_type', axis=1)\n",
    "test=test.drop('occyp_type', axis=1)"
   ]
  },
  {
   "cell_type": "markdown",
   "id": "f512dab8",
   "metadata": {},
   "source": [
    "### Binary Feature"
   ]
  },
  {
   "cell_type": "code",
   "execution_count": 6,
   "id": "10a16700",
   "metadata": {},
   "outputs": [
    {
     "name": "stdout",
     "output_type": "stream",
     "text": [
      "gender :\n",
      "0    17697\n",
      "1     8760\n",
      "Name: gender, dtype: int64\n",
      "--------------\n",
      "Having a car or not : \n",
      "0    16410\n",
      "1    10047\n",
      "Name: car, dtype: int64\n",
      "--------------\n",
      "Having house reality or not: \n",
      "1    17830\n",
      "0     8627\n",
      "Name: reality, dtype: int64\n",
      "--------------\n",
      "Having a phone or not: \n",
      "0    18672\n",
      "1     7785\n",
      "Name: phone, dtype: int64\n",
      "--------------\n",
      "Having a email or not: \n",
      "0    24042\n",
      "1     2415\n",
      "Name: email, dtype: int64\n",
      "--------------\n",
      "Having a work phone or not: \n",
      "0    20511\n",
      "1     5946\n",
      "Name: work_phone, dtype: int64\n",
      "--------------\n"
     ]
    }
   ],
   "source": [
    "train['gender'] = train['gender'].replace(['F','M'],[0,1])\n",
    "test['gender'] = test['gender'].replace(['F','M'],[0,1])\n",
    "print('gender :')\n",
    "print(train['gender'].value_counts())\n",
    "print('--------------')\n",
    "\n",
    "print('Having a car or not : ')\n",
    "train['car'] = train['car'].replace(['N','Y'],[0,1])\n",
    "test['car'] = test['car'].replace(['N','Y'],[0,1])\n",
    "print(train['car'].value_counts())\n",
    "print('--------------')\n",
    "\n",
    "print('Having house reality or not: ')\n",
    "train['reality'] = train['reality'].replace(['N','Y'],[0,1])\n",
    "test['reality'] = test['reality'].replace(['N','Y'],[0,1])\n",
    "print(train['reality'].value_counts())\n",
    "print('--------------')\n",
    "      \n",
    "print('Having a phone or not: ')\n",
    "print(train['phone'].value_counts())\n",
    "print('--------------')\n",
    "      \n",
    "\n",
    "print('Having a email or not: ')\n",
    "print(train['email'].value_counts())\n",
    "print('--------------')\n",
    "      \n",
    "\n",
    "print('Having a work phone or not: ')\n",
    "print(train['work_phone'].value_counts())\n",
    "print('--------------')"
   ]
  },
  {
   "cell_type": "markdown",
   "id": "738324d3",
   "metadata": {},
   "source": [
    "### Continuous Feature"
   ]
  },
  {
   "cell_type": "code",
   "execution_count": 7,
   "id": "1a3661bc",
   "metadata": {},
   "outputs": [
    {
     "data": {
      "text/plain": [
       "<AxesSubplot:>"
      ]
     },
     "execution_count": 7,
     "metadata": {},
     "output_type": "execute_result"
    },
    {
     "data": {
      "image/png": "[encoded data removed]",
      "text/plain": [
       "<Figure size 432x288 with 1 Axes>"
      ]
     },
     "metadata": {
      "needs_background": "light"
     },
     "output_type": "display_data"
    }
   ],
   "source": [
    "train['child_num'].value_counts(sort=False).plot.bar()"
   ]
  },
  {
   "cell_type": "code",
   "execution_count": 8,
   "id": "8e82f71c",
   "metadata": {},
   "outputs": [],
   "source": [
    "train.loc[train['child_num'] >= 2,'child_num']=2\n",
    "test.loc[test['child_num']>=2, 'child_num']=2"
   ]
  },
  {
   "cell_type": "code",
   "execution_count": 9,
   "id": "f63bedd0",
   "metadata": {},
   "outputs": [
    {
     "name": "stdout",
     "output_type": "stream",
     "text": [
      "(2.544, 18.18]      16212\n",
      "(18.18, 33.66]       8330\n",
      "(33.66, 49.14]       1530\n",
      "(49.14, 64.62]        206\n",
      "(64.62, 80.1]         121\n",
      "(80.1, 95.58]          44\n",
      "(95.58, 111.06]         3\n",
      "(111.06, 126.54]        2\n",
      "(126.54, 142.02]        4\n",
      "(142.02, 157.5]         5\n",
      "Name: income_total, dtype: int64\n"
     ]
    },
    {
     "data": {
      "text/plain": [
       "<AxesSubplot:ylabel='Frequency'>"
      ]
     },
     "execution_count": 9,
     "metadata": {},
     "output_type": "execute_result"
    },
    {
     "data": {
      "image/png": "[encoded data removed]",
      "text/plain": [
       "<Figure size 432x288 with 1 Axes>"
      ]
     },
     "metadata": {
      "needs_background": "light"
     },
     "output_type": "display_data"
    }
   ],
   "source": [
    "train['income_total'] = train['income_total'].astype(object)\n",
    "train['income_total'] = train['income_total']/10000 \n",
    "test['income_total'] = test['income_total']/10000\n",
    "##############################################################3\n",
    "print(train['income_total'].value_counts(bins=10,sort=False))\n",
    "train['income_total'].plot(kind='hist',bins=50,density=True)"
   ]
  },
  {
   "cell_type": "code",
   "execution_count": 10,
   "id": "202034ed",
   "metadata": {},
   "outputs": [
    {
     "name": "stdout",
     "output_type": "stream",
     "text": [
      "['Commercial associate' 'Working' 'State servant' 'Pensioner' 'Student']\n",
      "['Higher education' 'Secondary / secondary special' 'Incomplete higher'\n",
      " 'Lower secondary' 'Academic degree']\n",
      "['Married' 'Civil marriage' 'Separated' 'Single / not married' 'Widow']\n",
      "['Municipal apartment' 'House / apartment' 'With parents'\n",
      " 'Co-op apartment' 'Rented apartment' 'Office apartment']\n"
     ]
    }
   ],
   "source": [
    "print(train['income_type'].unique())\n",
    "print(train['edu_type'].unique())\n",
    "print(train['family_type'].unique())\n",
    "print(train['house_type'].unique())"
   ]
  },
  {
   "cell_type": "code",
   "execution_count": 11,
   "id": "339db0fc",
   "metadata": {},
   "outputs": [],
   "source": [
    "from sklearn import preprocessing\n",
    "label_encoder=preprocessing.LabelEncoder()\n",
    "train['income_type']=label_encoder.fit_transform(train['income_type'])\n",
    "test['income_type']=label_encoder.transform(test['income_type'])\n",
    "########################################################################\n",
    "train['edu_type']=label_encoder.fit_transform(train['edu_type'])\n",
    "test['edu_type']=label_encoder.transform(test['edu_type'])\n",
    "########################################################################\n",
    "train['family_type']=label_encoder.fit_transform(train['family_type'])\n",
    "test['family_type']=label_encoder.transform(test['family_type'])\n",
    "########################################################################\n",
    "train['house_type']=label_encoder.fit_transform(train['house_type'])\n",
    "test['house_type']=label_encoder.transform(test['house_type'])\n",
    "########################################################################\n",
    "train['income_total']=label_encoder.fit_transform(train['income_total'])\n",
    "test['income_total']=label_encoder.fit_transform(test['income_total'])"
   ]
  },
  {
   "cell_type": "markdown",
   "id": "07fe12cd",
   "metadata": {},
   "source": [
    "* * *"
   ]
  },
  {
   "cell_type": "code",
   "execution_count": 12,
   "id": "34be2d62",
   "metadata": {},
   "outputs": [
    {
     "data": {
      "text/plain": [
       "count    26457.0\n",
       "mean         1.0\n",
       "std          0.0\n",
       "min          1.0\n",
       "25%          1.0\n",
       "50%          1.0\n",
       "75%          1.0\n",
       "max          1.0\n",
       "Name: FLAG_MOBIL, dtype: float64"
      ]
     },
     "execution_count": 12,
     "metadata": {},
     "output_type": "execute_result"
    }
   ],
   "source": [
    "train['FLAG_MOBIL'].describe()"
   ]
  },
  {
   "cell_type": "code",
   "execution_count": 13,
   "id": "f68e808a",
   "metadata": {},
   "outputs": [
    {
     "data": {
      "text/plain": [
       "count    10000.0\n",
       "mean         1.0\n",
       "std          0.0\n",
       "min          1.0\n",
       "25%          1.0\n",
       "50%          1.0\n",
       "75%          1.0\n",
       "max          1.0\n",
       "Name: FLAG_MOBIL, dtype: float64"
      ]
     },
     "execution_count": 13,
     "metadata": {},
     "output_type": "execute_result"
    }
   ],
   "source": [
    "test['FLAG_MOBIL'].describe()"
   ]
  },
  {
   "cell_type": "code",
   "execution_count": 14,
   "id": "853cd388",
   "metadata": {},
   "outputs": [],
   "source": [
    "train.drop(['FLAG_MOBIL'], axis=1, inplace=True)\n",
    "test.drop(['FLAG_MOBIL'], axis=1, inplace=True)"
   ]
  },
  {
   "cell_type": "markdown",
   "id": "409ae0d0",
   "metadata": {},
   "source": [
    "* * *"
   ]
  },
  {
   "cell_type": "code",
   "execution_count": 15,
   "id": "101d4b94",
   "metadata": {},
   "outputs": [],
   "source": [
    "train['DAYS_BIRTH_month']=np.floor((-train['DAYS_BIRTH'])/30)-((np.floor((-train['DAYS_BIRTH'])/30)/12).astype(int)*12)\n",
    "train['DAYS_BIRTH_week']=np.floor((-train['DAYS_BIRTH'])/7)-((np.floor((-train['DAYS_BIRTH'])/7)/4).astype(int)*4)\n",
    "\n",
    "test['DAYS_BIRTH_month']=np.floor((-test['DAYS_BIRTH'])/30)-((np.floor((-test['DAYS_BIRTH'])/30)/12).astype(int)*12)\n",
    "test['DAYS_BIRTH_week']=np.floor((-test['DAYS_BIRTH'])/7)-((np.floor((-test['DAYS_BIRTH'])/7)/4).astype(int)*4)"
   ]
  },
  {
   "cell_type": "code",
   "execution_count": 16,
   "id": "7f7079ff",
   "metadata": {},
   "outputs": [],
   "source": [
    "train['DAYS_EMPLOYED_month']=np.floor((-train['DAYS_EMPLOYED'])/30)-((np.floor((-train['DAYS_EMPLOYED'])/30)/12).astype(int)*12)\n",
    "train['DAYS_EMPLOYED_week']=np.floor((-train['DAYS_EMPLOYED'])/7)-((np.floor((-train['DAYS_EMPLOYED'])/7)/4).astype(int)*4)\n",
    "\n",
    "test['DAYS_EMPLOYED_month']=np.floor((-test['DAYS_EMPLOYED'])/30)-((np.floor((-test['DAYS_EMPLOYED'])/30)/12).astype(int)*12)\n",
    "test['DAYS_EMPLOYED_week']=np.floor((-test['DAYS_EMPLOYED'])/7)-((np.floor((-test['DAYS_EMPLOYED'])/7)/4).astype(int)*4)"
   ]
  },
  {
   "cell_type": "code",
   "execution_count": 17,
   "id": "6300e9de",
   "metadata": {},
   "outputs": [],
   "source": [
    "train['before_EMPLOYED']=train['DAYS_BIRTH']-train['DAYS_EMPLOYED']\n",
    "train['before_EMPLOYED_month']=np.floor((-train['before_EMPLOYED'])/30)-((np.floor((-train['before_EMPLOYED'])/30)/12).astype(int)*12)\n",
    "train['before_EMPLOYED_week']=np.floor((-train['before_EMPLOYED'])/7)-((np.floor((-train['before_EMPLOYED'])/7)/4).astype(int)*4)\n",
    "\n",
    "test['before_EMPLOYED']=test['DAYS_BIRTH']-test['DAYS_EMPLOYED']\n",
    "test['before_EMPLOYED_month']=np.floor((-test['before_EMPLOYED'])/30)-((np.floor((-test['before_EMPLOYED'])/30)/12).astype(int)*12)\n",
    "test['before_EMPLOYED_week']=np.floor((-test['before_EMPLOYED'])/7)-((np.floor((-test['before_EMPLOYED'])/7)/4).astype(int)*4)"
   ]
  },
  {
   "cell_type": "code",
   "execution_count": 18,
   "id": "d8b74710",
   "metadata": {},
   "outputs": [
    {
     "data": {
      "text/plain": [
       " 365243    4438\n",
       "-401         57\n",
       "-1539        47\n",
       "-200         45\n",
       "-2087        44\n",
       "           ... \n",
       "-10475        1\n",
       "-2202         1\n",
       "-2552         1\n",
       "-680          1\n",
       "-4973         1\n",
       "Name: DAYS_EMPLOYED, Length: 3470, dtype: int64"
      ]
     },
     "execution_count": 18,
     "metadata": {},
     "output_type": "execute_result"
    }
   ],
   "source": [
    "train['DAYS_EMPLOYED'].value_counts()"
   ]
  },
  {
   "cell_type": "markdown",
   "id": "502436e9",
   "metadata": {},
   "source": [
    "* * *"
   ]
  },
  {
   "cell_type": "code",
   "execution_count": 19,
   "id": "27356987",
   "metadata": {},
   "outputs": [],
   "source": [
    "train['income_family'] = train['income_total'] / train['family_size']\n",
    "test['income_family'] = test['income_total'] / test['family_size']"
   ]
  },
  {
   "cell_type": "code",
   "execution_count": 20,
   "id": "b8b77ae0",
   "metadata": {},
   "outputs": [],
   "source": [
    "train['DAYS_BIRTH2'] = train['DAYS_BIRTH']**2\n",
    "test['DAYS_BIRTH2'] = test['DAYS_BIRTH']**2"
   ]
  },
  {
   "cell_type": "code",
   "execution_count": 21,
   "id": "9b77663f",
   "metadata": {},
   "outputs": [],
   "source": [
    "train['income_age'] = train['income_total'] * train['DAYS_BIRTH']\n",
    "test['income_age'] = test['income_total'] * test['DAYS_BIRTH']"
   ]
  },
  {
   "cell_type": "markdown",
   "id": "ad393c00",
   "metadata": {},
   "source": [
    "* * *"
   ]
  },
  {
   "cell_type": "code",
   "execution_count": 22,
   "id": "89ddc296",
   "metadata": {},
   "outputs": [],
   "source": [
    "train['ID'] = train['child_num'].astype(str) + '_' + train['income_total'].astype(str) + '_' + train['DAYS_BIRTH'].astype(str) + '_' + train['DAYS_EMPLOYED'].astype(str) + '_' + train['work_phone'].astype(str) + '_' + train['phone'].astype(str) + '_' + train['email'].astype(str) + '_' + train['family_size'].astype(str) + '_' + train['gender'].astype(str) + '_' + train['car'].astype(str) + '_' + train['reality'].astype(str) + '_' + train['income_type'].astype(str) + '_' + train['edu_type'].astype(str) + '_' + train['family_type'].astype(str) + '_' + train['house_type'].astype(str)"
   ]
  },
  {
   "cell_type": "code",
   "execution_count": 23,
   "id": "f696db4a",
   "metadata": {},
   "outputs": [],
   "source": [
    "test['ID'] = test['child_num'].astype(str) + '_' + test['income_total'].astype(str) + '_' + test['DAYS_BIRTH'].astype(str) + '_' + test['DAYS_EMPLOYED'].astype(str) + '_' + test['work_phone'].astype(str) + '_' + test['phone'].astype(str) + '_' + test['email'].astype(str) + '_' + test['family_size'].astype(str) + '_' + test['gender'].astype(str) + '_' + test['car'].astype(str) + '_' + test['reality'].astype(str) + '_' + test['income_type'].astype(str) + '_' + test['edu_type'].astype(str) + '_' + test['family_type'].astype(str) + '_' + test['house_type'].astype(str)"
   ]
  },
  {
   "cell_type": "code",
   "execution_count": 24,
   "id": "86725a9c",
   "metadata": {},
   "outputs": [],
   "source": [
    "train = train.astype({'ID':'str'})\n",
    "test = test.astype({'ID':'str'})"
   ]
  },
  {
   "cell_type": "markdown",
   "id": "2041da65",
   "metadata": {},
   "source": [
    "* * *"
   ]
  },
  {
   "cell_type": "code",
   "execution_count": 25,
   "id": "2307682e",
   "metadata": {},
   "outputs": [],
   "source": [
    "#구간화 함수\n",
    "def make_bin(df, variable, n):\n",
    "    \n",
    "    data = df\n",
    "    count, bin_dividers = np.histogram(data[variable], bins=n)\n",
    "    bin_names=[str(i) for i in range(n)]\n",
    "    data['%s_bin' % variable] = pd.cut(x=data[variable], bins=bin_dividers, labels=bin_names, include_lowest=True)\n",
    "    data['%s_bin' % variable] = pd.factorize(data['%s_bin' % variable])[0]\n",
    "    print(data['%s_bin' % variable], '\\n\\n')\n",
    "    \n",
    "    return data"
   ]
  },
  {
   "cell_type": "code",
   "execution_count": 26,
   "id": "001f42f2",
   "metadata": {},
   "outputs": [
    {
     "name": "stdout",
     "output_type": "stream",
     "text": [
      "0        0\n",
      "1        1\n",
      "2        2\n",
      "3        3\n",
      "4        3\n",
      "        ..\n",
      "26452    1\n",
      "26453    3\n",
      "26454    5\n",
      "26455    5\n",
      "26456    2\n",
      "Name: DAYS_BIRTH_bin, Length: 26457, dtype: int64 \n",
      "\n",
      "\n",
      "0       0\n",
      "1       1\n",
      "2       2\n",
      "3       1\n",
      "4       3\n",
      "       ..\n",
      "9995    1\n",
      "9996    8\n",
      "9997    4\n",
      "9998    3\n",
      "9999    9\n",
      "Name: DAYS_BIRTH_bin, Length: 10000, dtype: int64 \n",
      "\n",
      "\n"
     ]
    }
   ],
   "source": [
    "train = make_bin(train, 'DAYS_BIRTH', n=10)\n",
    "test = make_bin(test, 'DAYS_BIRTH', n=10)"
   ]
  },
  {
   "cell_type": "markdown",
   "id": "1df4bcb5",
   "metadata": {},
   "source": [
    "* * *"
   ]
  },
  {
   "cell_type": "code",
   "execution_count": 27,
   "id": "5a389601",
   "metadata": {},
   "outputs": [],
   "source": [
    "edu_dict = {'Lower secondary':1,\n",
    " 'Secondary / secondary special':2,\n",
    " 'Incomplete higher':3,\n",
    " 'Higher education':4,\n",
    " 'Academic degree':5}\n",
    "\n",
    "train['edu_type'].replace(edu_dict,inplace=True)\n",
    "test['edu_type'].replace(edu_dict,inplace=True)"
   ]
  },
  {
   "cell_type": "code",
   "execution_count": 28,
   "id": "be63c658",
   "metadata": {},
   "outputs": [],
   "source": [
    "house_dict = {'With parents':3,\n",
    " 'Co-op apartment':2,\n",
    " 'Municipal apartment':1,\n",
    " 'Rented apartment':4,\n",
    " 'Office apartment':5,\n",
    " 'House / apartment':6}\n",
    "\n",
    "train['house_type'].replace(house_dict,inplace=True)\n",
    "test['house_type'].replace(house_dict,inplace=True)"
   ]
  },
  {
   "cell_type": "markdown",
   "id": "def8d7df",
   "metadata": {},
   "source": [
    "* * *"
   ]
  },
  {
   "cell_type": "code",
   "execution_count": 29,
   "id": "829273b9",
   "metadata": {},
   "outputs": [],
   "source": [
    "from sklearn.preprocessing import OrdinalEncoder\n",
    "\n",
    "oe = OrdinalEncoder(handle_unknown='use_encoded_value', unknown_value=-1, dtype=int)"
   ]
  },
  {
   "cell_type": "code",
   "execution_count": 30,
   "id": "06f21000",
   "metadata": {},
   "outputs": [],
   "source": [
    "train['ID'] = oe.fit_transform(train[['ID']])\n",
    "test['ID'] = oe.transform(test[['ID']])"
   ]
  },
  {
   "cell_type": "markdown",
   "id": "6004a0ce",
   "metadata": {},
   "source": [
    "* * *"
   ]
  },
  {
   "cell_type": "code",
   "execution_count": 31,
   "id": "bc7f5110",
   "metadata": {},
   "outputs": [],
   "source": [
    "train.to_csv('data/train_fe.csv')\n",
    "test.to_csv('data/test_fe.csv')"
   ]
  },
  {
   "cell_type": "code",
   "execution_count": 32,
   "id": "4c83db80",
   "metadata": {},
   "outputs": [],
   "source": [
    "import optuna\n",
    "from optuna.samplers import TPESampler"
   ]
  },
  {
   "cell_type": "markdown",
   "id": "1f025d53",
   "metadata": {},
   "source": [
    "## Random Forest"
   ]
  },
  {
   "cell_type": "code",
   "execution_count": null,
   "id": "bd43985e",
   "metadata": {},
   "outputs": [],
   "source": [
    "X = pd.read_csv('data/train_fe.csv', encoding='cp949').drop(['credit', 'Unnamed: 0'],axis=1)\n",
    "y = pd.read_csv('data/train_fe.csv', encoding='cp949').credit\n",
    "X_test = pd.read_csv('data/test_fe.csv', encoding='cp949').drop(columns=['Unnamed: 0'])"
   ]
  },
  {
   "cell_type": "code",
   "execution_count": null,
   "id": "fb26b46c",
   "metadata": {},
   "outputs": [],
   "source": [
    "X_train, X_test, y_train, y_test = train_test_split(X, y, test_size=0.2)"
   ]
  },
  {
   "cell_type": "code",
   "execution_count": null,
   "id": "41b6afce",
   "metadata": {},
   "outputs": [],
   "source": [
    "def objective(trial):\n",
    "    param = {\n",
    "      \"random_state\":42,\n",
    "      \"n_estimators\":trial.suggest_int(\"n_estimators\", 100, 5000, step=5),\n",
    "      \"max_depth\":trial.suggest_int(\"max_depth\", 20, 50, step=1),\n",
    "      \"min_samples_leaf\":trial.suggest_int(\"min_samples_leaf\", 30, 200, step=5),\n",
    "      \"max_leaf_nodes\":trial.suggest_int(\"max_leaf_nodes\", 30, 200, step=5),\n",
    "    }\n",
    "\n",
    "#     X_train, X_test, y_train, y_test = train_test_split(X, y, test_size=0.2)\n",
    "\n",
    "    rf = RandomForestClassifier(**param)\n",
    "    rf.fit(X_train, y_train)\n",
    "    rf_pred = rf.predict_proba(X_test)\n",
    "    log_score = log_loss(y_test, rf_pred)\n",
    "\n",
    "    return log_score"
   ]
  },
  {
   "cell_type": "code",
   "execution_count": null,
   "id": "df3464b4",
   "metadata": {},
   "outputs": [],
   "source": [
    "study = optuna.create_study(sampler=optuna.samplers.TPESampler(seed=100), direction=\"minimize\")\n",
    "study.optimize(objective, n_trials=5)\n",
    "\n",
    "print(\"Best score:\", study.best_value)\n",
    "print(\"Best parameters:\", study.best_params)"
   ]
  },
  {
   "cell_type": "code",
   "execution_count": null,
   "id": "cfe2a3ee",
   "metadata": {},
   "outputs": [],
   "source": [
    "tree.predict(X_test)[:, 1:]"
   ]
  },
  {
   "cell_type": "code",
   "execution_count": null,
   "id": "981dbe92",
   "metadata": {},
   "outputs": [],
   "source": [
    "tree = RandomForestClassifier(**study.best_params, random_state= 42)\n",
    "tree.fit(X_train, y_train)\n",
    "logloss_score = log_loss(y_test, tree.predict_proba(X_test))\n",
    "print('log_loss_score {}: '.format('42'), logloss_score)"
   ]
  },
  {
   "cell_type": "markdown",
   "id": "259647d1",
   "metadata": {},
   "source": [
    "for i in range(100):\n",
    "    tree = RandomForestClassifier(**study.best_params, random_state= i)\n",
    "    tree.fit(X_train, y_train)\n",
    "    logloss_score = log_loss(y_test, tree.predict_proba(X_test)[:,1])\n",
    "    print('log_loss_score {}: '.format(i), logloss_score)"
   ]
  },
  {
   "cell_type": "code",
   "execution_count": null,
   "id": "5a42f681",
   "metadata": {},
   "outputs": [],
   "source": [
    "tree.predict_proba(X_test[:, 1])"
   ]
  },
  {
   "cell_type": "markdown",
   "id": "3fc0c080",
   "metadata": {},
   "source": [
    "* * *"
   ]
  },
  {
   "cell_type": "markdown",
   "id": "c2e8f68f",
   "metadata": {},
   "source": [
    "## Catboost"
   ]
  },
  {
   "cell_type": "code",
   "execution_count": 33,
   "id": "00e09702",
   "metadata": {},
   "outputs": [],
   "source": [
    "X = pd.read_csv('data/train_fe.csv', encoding='cp949').drop(['credit', 'Unnamed: 0'],axis=1)\n",
    "y = pd.read_csv('data/train_fe.csv', encoding='cp949').credit\n",
    "X_test = pd.read_csv('data/test_fe.csv', encoding='cp949').drop(columns=['Unnamed: 0'])"
   ]
  },
  {
   "cell_type": "code",
   "execution_count": null,
   "id": "eca09950",
   "metadata": {},
   "outputs": [],
   "source": [
    "del X_train\n",
    "del X_test"
   ]
  },
  {
   "cell_type": "code",
   "execution_count": 34,
   "id": "631f0ff7",
   "metadata": {},
   "outputs": [],
   "source": [
    "def objective(trial):\n",
    "    param = {\n",
    "      \"random_state\":42,\n",
    "      'learning_rate' : trial.suggest_loguniform('learning_rate', 0.01, 0.3),\n",
    "      'bagging_temperature' :trial.suggest_loguniform('bagging_temperature', 0.01, 100.00),\n",
    "      \"n_estimators\":trial.suggest_int(\"n_estimators\", 1000, 10000),\n",
    "      \"max_depth\":trial.suggest_int(\"max_depth\", 4, 16),\n",
    "      'random_strength' :trial.suggest_int('random_strength', 0, 100),\n",
    "      \"colsample_bylevel\":trial.suggest_float(\"colsample_bylevel\", 0.4, 1.0),\n",
    "      \"l2_leaf_reg\":trial.suggest_float(\"l2_leaf_reg\",1e-8,3e-5),\n",
    "      \"min_child_samples\": trial.suggest_int(\"min_child_samples\", 5, 100),\n",
    "      \"max_bin\": trial.suggest_int(\"max_bin\", 200, 500),\n",
    "      'od_type': trial.suggest_categorical('od_type', ['IncToDec', 'Iter']),\n",
    "    }\n",
    "\n",
    "    X_train, X_valid, y_train, y_valid = train_test_split(X,y,test_size=0.2)\n",
    "\n",
    "    cat_features =[0,1,2,5,6,7,8,15,18]\n",
    "    cat = CatBoostClassifier(**param)\n",
    "    cat.fit(X_train, y_train,\n",
    "          eval_set=[(X_train, y_train), (X_valid,y_valid)],\n",
    "          early_stopping_rounds=35,cat_features=cat_features,\n",
    "          verbose=100)\n",
    "    cat_pred = cat.predict_proba(X_valid)\n",
    "    log_score = log_loss(y_valid, cat_pred)\n",
    "\n",
    "    return log_score"
   ]
  },
  {
   "cell_type": "code",
   "execution_count": 35,
   "id": "35d9b36f",
   "metadata": {},
   "outputs": [],
   "source": [
    "X = X.astype(str)\n",
    "y = y.astype(str)"
   ]
  },
  {
   "cell_type": "code",
   "execution_count": null,
   "id": "ce55092a",
   "metadata": {},
   "outputs": [
    {
     "name": "stderr",
     "output_type": "stream",
     "text": [
      "\u001b[32m[I 2022-11-27 10:37:47,426]\u001b[0m A new study created in memory with name: no-name-4d40ba45-dd8c-4e12-bb73-ebc0a73a1019\u001b[0m\n"
     ]
    },
    {
     "name": "stdout",
     "output_type": "stream",
     "text": [
      "0:\tlearn: 1.0829489\ttest: 1.0829489\ttest1: 1.0828958\tbest: 1.0828958 (0)\ttotal: 137ms\tremaining: 17m 15s\n",
      "100:\tlearn: 0.8825703\ttest: 0.8825703\ttest1: 0.8827909\tbest: 0.8827909 (100)\ttotal: 1s\tremaining: 1m 14s\n"
     ]
    },
    {
     "name": "stderr",
     "output_type": "stream",
     "text": [
      "\u001b[32m[I 2022-11-27 10:37:49,734]\u001b[0m Trial 0 finished with value: 0.882684079492545 and parameters: {'learning_rate': 0.03574712922600244, 'bagging_temperature': 63.512210106407046, 'n_estimators': 7588, 'max_depth': 11, 'random_strength': 15, 'colsample_bylevel': 0.49359671220172163, 'l2_leaf_reg': 1.7519275289243016e-06, 'min_child_samples': 88, 'max_bin': 380, 'od_type': 'IncToDec'}. Best is trial 0 with value: 0.882684079492545.\u001b[0m\n"
     ]
    },
    {
     "name": "stdout",
     "output_type": "stream",
     "text": [
      "Stopped by overfitting detector  (35 iterations wait)\n",
      "\n",
      "bestTest = 0.8826840795\n",
      "bestIteration = 140\n",
      "\n",
      "Shrink model to first 141 iterations.\n",
      "0:\tlearn: 0.9884999\ttest: 0.9884999\ttest1: 0.9864963\tbest: 0.9864963 (0)\ttotal: 47.2ms\tremaining: 2m 17s\n",
      "100:\tlearn: 0.6962589\ttest: 0.7058049\ttest1: 0.7796335\tbest: 0.7796335 (100)\ttotal: 5.63s\tremaining: 2m 36s\n",
      "200:\tlearn: 0.6091650\ttest: 0.6288406\ttest1: 0.7568397\tbest: 0.7566890 (199)\ttotal: 11.3s\tremaining: 2m 32s\n",
      "300:\tlearn: 0.5451029\ttest: 0.5757740\ttest1: 0.7495466\tbest: 0.7493308 (299)\ttotal: 16.9s\tremaining: 2m 26s\n"
     ]
    },
    {
     "name": "stderr",
     "output_type": "stream",
     "text": [
      "\u001b[32m[I 2022-11-27 10:38:11,386]\u001b[0m Trial 1 finished with value: 0.7466578507067593 and parameters: {'learning_rate': 0.2708160864249968, 'bagging_temperature': 21.368329072358772, 'n_estimators': 2911, 'max_depth': 6, 'random_strength': 18, 'colsample_bylevel': 0.5825453457757226, 'l2_leaf_reg': 1.5747445384650815e-05, 'min_child_samples': 46, 'max_bin': 287, 'od_type': 'IncToDec'}. Best is trial 1 with value: 0.7466578507067593.\u001b[0m\n"
     ]
    },
    {
     "name": "stdout",
     "output_type": "stream",
     "text": [
      "Stopped by overfitting detector  (35 iterations wait)\n",
      "\n",
      "bestTest = 0.7466578507\n",
      "bestIteration = 339\n",
      "\n",
      "Shrink model to first 340 iterations.\n",
      "0:\tlearn: 1.0866401\ttest: 1.0866401\ttest1: 1.0867509\tbest: 1.0867509 (0)\ttotal: 26ms\tremaining: 2m 12s\n",
      "100:\tlearn: 0.8445072\ttest: 0.8452240\ttest1: 0.8555701\tbest: 0.8555701 (100)\ttotal: 26s\tremaining: 21m 26s\n",
      "200:\tlearn: 0.8168179\ttest: 0.8199773\ttest1: 0.8354427\tbest: 0.8354427 (200)\ttotal: 51.2s\tremaining: 20m 49s\n",
      "300:\tlearn: 0.7972778\ttest: 0.8029044\ttest1: 0.8221144\tbest: 0.8221144 (300)\ttotal: 1m 14s\tremaining: 19m 42s\n",
      "400:\tlearn: 0.7748301\ttest: 0.7854743\ttest1: 0.8083093\tbest: 0.8083093 (400)\ttotal: 1m 46s\tremaining: 20m 48s\n",
      "500:\tlearn: 0.6164730\ttest: 0.7069950\ttest1: 0.7675640\tbest: 0.7675640 (500)\ttotal: 3m 26s\tremaining: 31m 34s\n",
      "600:\tlearn: 0.3423142\ttest: 0.5485951\ttest1: 0.7212572\tbest: 0.7212572 (600)\ttotal: 7m 3s\tremaining: 52m 51s\n",
      "Stopped by overfitting detector  (35 iterations wait)\n",
      "\n",
      "bestTest = 0.7192221832\n",
      "bestIteration = 657\n",
      "\n",
      "Shrink model to first 658 iterations.\n"
     ]
    },
    {
     "name": "stderr",
     "output_type": "stream",
     "text": [
      "\u001b[32m[I 2022-11-27 10:48:46,369]\u001b[0m Trial 2 finished with value: 0.7192221831602612 and parameters: {'learning_rate': 0.027010527749605478, 'bagging_temperature': 0.2920433847181412, 'n_estimators': 5105, 'max_depth': 14, 'random_strength': 20, 'colsample_bylevel': 0.708540663048167, 'l2_leaf_reg': 1.7776512920172654e-05, 'min_child_samples': 9, 'max_bin': 382, 'od_type': 'IncToDec'}. Best is trial 2 with value: 0.7192221831602612.\u001b[0m\n"
     ]
    }
   ],
   "source": [
    "sampler = TPESampler(seed=42)\n",
    "study = optuna.create_study(\n",
    "    direction = 'minimize',\n",
    "    sampler = sampler,\n",
    ")\n",
    "study.optimize(objective, n_trials=10)\n",
    "print(\"Best Score:\",study.best_value)\n",
    "print(\"Best trial\",study.best_trial.params)"
   ]
  },
  {
   "cell_type": "code",
   "execution_count": null,
   "id": "07be6c2a",
   "metadata": {},
   "outputs": [],
   "source": [
    "skf = StratifiedKFold(n_splits=5, shuffle=True, random_state=42)\n",
    "folds = []\n",
    "for train_idx, valid_idx in skf.split(train, train['credit']):\n",
    "    folds.append((train_idx,valid_idx))"
   ]
  },
  {
   "cell_type": "code",
   "execution_count": null,
   "id": "9eb1aece",
   "metadata": {},
   "outputs": [],
   "source": [
    "random.seed(42)\n",
    "cat_models={}\n",
    "\n",
    "cat_features =[0,1,2,5,6,7,8,15,18]\n",
    "\n",
    "for fold in range(5):\n",
    "    print(f'===================================={fold+1}============================================')\n",
    "    train_idx, valid_idx = folds[fold]\n",
    "    X_train = train.drop(['credit'],axis=1).iloc[train_idx].values \n",
    "    X_valid = train.drop(['credit'],axis=1).iloc[valid_idx].values\n",
    "    y_train = train['credit'][train_idx].values\n",
    "    y_valid = train['credit'][valid_idx].values\n",
    "\n",
    "    cat = CatBoostClassifier(**study.best_params)\n",
    "    cat.fit(X_train, y_train,\n",
    "          eval_set=[(X_train, y_train), (X_valid,y_valid)],\n",
    "          early_stopping_rounds=35,cat_features=cat_features,\n",
    "          verbose=100)\n",
    "    cat_models[fold] = cat\n",
    "    print(f'================================================================================\\n\\n')"
   ]
  },
  {
   "cell_type": "code",
   "execution_count": null,
   "id": "8d5a41fc",
   "metadata": {},
   "outputs": [],
   "source": [
    "submit.iloc[:,1:]=0\n",
    "for fold in range(5):\n",
    "    submit.iloc[:,1:] += cat_models[fold].predict_proba(test)/5"
   ]
  },
  {
   "cell_type": "code",
   "execution_count": null,
   "id": "4b792973",
   "metadata": {},
   "outputs": [],
   "source": [
    "t = pd.Timestamp.now()\n",
    "fname = f\"CB_submission_{t.month:02}{t.day:02}_{t.hour:02}{t.minute:02}.csv\"\n",
    "pd.DataFrame(submit).to_csv(fname, index=False)\n",
    "print(f\"'{fname}' is ready to submit.\")"
   ]
  },
  {
   "cell_type": "code",
   "execution_count": null,
   "id": "1a749306",
   "metadata": {},
   "outputs": [],
   "source": []
  },
  {
   "cell_type": "code",
   "execution_count": null,
   "id": "b18455d1",
   "metadata": {},
   "outputs": [],
   "source": []
  },
  {
   "cell_type": "code",
   "execution_count": null,
   "id": "3c475e90",
   "metadata": {},
   "outputs": [],
   "source": []
  },
  {
   "cell_type": "code",
   "execution_count": null,
   "id": "4ec21c33",
   "metadata": {},
   "outputs": [],
   "source": []
  },
  {
   "cell_type": "code",
   "execution_count": null,
   "id": "91234661",
   "metadata": {},
   "outputs": [],
   "source": []
  },
  {
   "cell_type": "code",
   "execution_count": null,
   "id": "1ddabd29",
   "metadata": {},
   "outputs": [],
   "source": []
  },
  {
   "cell_type": "code",
   "execution_count": null,
   "id": "cb44bb07",
   "metadata": {},
   "outputs": [],
   "source": []
  },
  {
   "cell_type": "code",
   "execution_count": null,
   "id": "5a593c20",
   "metadata": {},
   "outputs": [],
   "source": []
  }
 ],
 "metadata": {
  "kernelspec": {
   "display_name": "Python 3 (ipykernel)",
   "language": "python",
   "name": "python3"
  },
  "language_info": {
   "codemirror_mode": {
    "name": "ipython",
    "version": 3
   },
   "file_extension": ".py",
   "mimetype": "text/x-python",
   "name": "python",
   "nbconvert_exporter": "python",
   "pygments_lexer": "ipython3",
   "version": "3.9.7"
  }
 },
 "nbformat": 4,
 "nbformat_minor": 5
}
